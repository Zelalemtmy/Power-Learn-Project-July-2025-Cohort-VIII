{
 "cells": [
  {
   "cell_type": "markdown",
   "id": "4cf8a01d-f40c-4b8f-9033-b5b320c17a61",
   "metadata": {},
   "source": [
    "# Basic Calculator Program, Week 1- Assignment"
   ]
  },
  {
   "cell_type": "code",
   "execution_count": 1,
   "id": "60a417c4-d7cc-4278-a832-e70ecc8ee795",
   "metadata": {},
   "outputs": [
    {
     "name": "stdout",
     "output_type": "stream",
     "text": [
      "sum: 15\n"
     ]
    }
   ],
   "source": [
    "# Addition\n",
    "a=10\n",
    "b=5\n",
    "print(\"sum:\",a+b)"
   ]
  },
  {
   "cell_type": "code",
   "execution_count": 3,
   "id": "500d7b6d-bd63-45be-937f-0e1666d69262",
   "metadata": {},
   "outputs": [
    {
     "name": "stdout",
     "output_type": "stream",
     "text": [
      "subtraction: 5\n"
     ]
    }
   ],
   "source": [
    "# Subtraction\n",
    "print(\"subtraction:\",a-b)"
   ]
  },
  {
   "cell_type": "code",
   "execution_count": 4,
   "id": "ed795b08-ad5e-4a33-8ac4-1535a6449007",
   "metadata": {},
   "outputs": [
    {
     "name": "stdout",
     "output_type": "stream",
     "text": [
      "multiplication: 50\n"
     ]
    }
   ],
   "source": [
    "# Multiplication\n",
    "print(\"multiplication:\",a*b)"
   ]
  },
  {
   "cell_type": "code",
   "execution_count": 5,
   "id": "26bc0228-069d-498e-a3a6-81cdd8d920e3",
   "metadata": {},
   "outputs": [
    {
     "name": "stdout",
     "output_type": "stream",
     "text": [
      "division: 2.0\n"
     ]
    }
   ],
   "source": [
    "# Division\n",
    "print(\"division:\",a/b)"
   ]
  },
  {
   "cell_type": "code",
   "execution_count": null,
   "id": "4952dc32-2357-44d2-871f-b1073fcb76fb",
   "metadata": {},
   "outputs": [],
   "source": []
  }
 ],
 "metadata": {
  "kernelspec": {
   "display_name": "Python 3 (ipykernel)",
   "language": "python",
   "name": "python3"
  },
  "language_info": {
   "codemirror_mode": {
    "name": "ipython",
    "version": 3
   },
   "file_extension": ".py",
   "mimetype": "text/x-python",
   "name": "python",
   "nbconvert_exporter": "python",
   "pygments_lexer": "ipython3",
   "version": "3.13.5"
  }
 },
 "nbformat": 4,
 "nbformat_minor": 5
}
