{
 "cells": [
  {
   "cell_type": "code",
   "execution_count": null,
   "id": "1f69a06d-f533-4228-b81b-bd20649f982e",
   "metadata": {},
   "outputs": [],
   "source": [
    "# Q-1  File Read & Write Challeng\n",
    "# Read file paths from the user and write the modified version to a new file\n",
    "\n",
    "# Open the file in read mode\n",
    "with open(\"input.txt\", \"r\")as f:\n",
    "    content= f.read()\n",
    "    \n",
    "# Modify content(example: reverse the text)\n",
    "modified_content= content[::-1]\n",
    "\n",
    "# Write to a new file\n",
    "with open(\"output.txt\", \"w\") as f:\n",
    "    f.write(mofified_content)\n",
    "print(\"Mofified file saved as output.txt\")"
   ]
  },
  {
   "cell_type": "code",
   "execution_count": null,
   "id": "21041445-3f3a-4c9a-9571-73fbfa557dd9",
   "metadata": {},
   "outputs": [],
   "source": [
    "# Q-2  Error Handling Lab (try and except )\n",
    "\n",
    "# Ask the user for the filename\n",
    "filename = input(\"Enter the filename:\")\n",
    "\n",
    "# Try to open and read the file\n",
    "with open(filename, \"r\") as f:\n",
    "    content = f.read()\n",
    "print(\"/nFile content:/n\")\n",
    "print(content)\n",
    "except FileNotFounfError:\n",
    "  print(\"Error: The file does not exist.\")\n",
    "except IOError:\n",
    "  print(Error: The file canot be read.\")\n",
    "\n",
    "\n"
   ]
  }
 ],
 "metadata": {
  "kernelspec": {
   "display_name": "Python 3 (ipykernel)",
   "language": "python",
   "name": "python3"
  },
  "language_info": {
   "codemirror_mode": {
    "name": "ipython",
    "version": 3
   },
   "file_extension": ".py",
   "mimetype": "text/x-python",
   "name": "python",
   "nbconvert_exporter": "python",
   "pygments_lexer": "ipython3",
   "version": "3.13.5"
  }
 },
 "nbformat": 4,
 "nbformat_minor": 5
}
