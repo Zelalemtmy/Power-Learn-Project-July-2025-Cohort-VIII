{
 "cells": [
  {
   "cell_type": "code",
   "execution_count": 4,
   "id": "fd24f4f5-211a-4b18-add0-27a78ca974d4",
   "metadata": {},
   "outputs": [],
   "source": [
    "# Question 1, \n",
    "\n",
    "# Discount calculation using if...else\n",
    "\n",
    "def calculate_discount(price, discount_percent):\n",
    "    if discount_percent>=20:\n",
    "        discount_amount= price*(discount_percent/100)\n",
    "        return price-discount_amount\n",
    "    else:\n",
    "        return price"
   ]
  },
  {
   "cell_type": "code",
   "execution_count": null,
   "id": "0d4beb7d-a089-4303-92cd-5d8031936bff",
   "metadata": {},
   "outputs": [],
   "source": [
    "# Question 2, \n",
    "       \n",
    "# Prompt the user to enter the input\n",
    "original_price = float(input(\"Enter the original price of the item:\"))\n",
    "discount_percentage = float(input(\"Enter the discount percentage:\"))\n",
    "\n",
    "# Calculate final price using the function\n",
    "final_price= calculate_discount(original_price, discount_percentage)\n",
    "\n",
    "# Display the output\n",
    "if discount percentage>=20:\n",
    "    print(f\"Original price: {original_price:.2f}\")\n",
    "    print(f\"Discount applied: {discount_percentage}%\")\n",
    "    print(f\"Final price after discount: {final_price:.2f}\")\n",
    "else:\n",
    "    print(f\"No discount applied (discount was {discount_percentage}%, needs to be 20% or higher)\")\n",
    "    print(f\"Final price: {final_price:.2f}\")\n"
   ]
  }
 ],
 "metadata": {
  "kernelspec": {
   "display_name": "Python 3 (ipykernel)",
   "language": "python",
   "name": "python3"
  },
  "language_info": {
   "codemirror_mode": {
    "name": "ipython",
    "version": 3
   },
   "file_extension": ".py",
   "mimetype": "text/x-python",
   "name": "python",
   "nbconvert_exporter": "python",
   "pygments_lexer": "ipython3",
   "version": "3.13.5"
  }
 },
 "nbformat": 4,
 "nbformat_minor": 5
}
