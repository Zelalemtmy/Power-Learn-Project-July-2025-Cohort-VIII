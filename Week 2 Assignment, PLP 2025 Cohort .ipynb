{
 "cells": [
  {
   "cell_type": "code",
   "execution_count": null,
   "id": "cf726311-6ebf-4ed9-ba91-be8f76d1140f",
   "metadata": {},
   "outputs": [],
   "source": [
    "# Week 2 Assignment for PLP 2025 Cohort, By Zelalem Aychew Beyene"
   ]
  },
  {
   "cell_type": "code",
   "execution_count": 1,
   "id": "2437a849-24eb-4c72-ba92-1fed88be8874",
   "metadata": {},
   "outputs": [],
   "source": [
    "# Quesion 1 Create an empty list called my_list.\n",
    "my_list=[]\n"
   ]
  },
  {
   "cell_type": "code",
   "execution_count": 20,
   "id": "01b9f73d-1fb5-47f1-b54d-b0198da4175c",
   "metadata": {},
   "outputs": [
    {
     "name": "stdout",
     "output_type": "stream",
     "text": [
      "[10, 20, 30, 40]\n"
     ]
    }
   ],
   "source": [
    "# Question 2, Append the following elements to my_list: 10, 20, 30, 40.\n",
    "my_list=[]\n",
    "#using append method\n",
    "my_list.append(10)\n",
    "my_list.append(20)\n",
    "my_list.append(30)\n",
    "my_list.append(40)\n",
    "print(my_list)"
   ]
  },
  {
   "cell_type": "code",
   "execution_count": 10,
   "id": "42833c18-3a9e-4999-99c5-34f9f1665b3c",
   "metadata": {},
   "outputs": [
    {
     "name": "stdout",
     "output_type": "stream",
     "text": [
      "[10, 15, 20, 30, 40]\n"
     ]
    }
   ],
   "source": [
    "# Question 3,Insert the value 15 at the second position in the list.\n",
    "my_list=[10,20,30,40]\n",
    "my_list.insert(1,15)\n",
    "print(my_list)"
   ]
  },
  {
   "cell_type": "code",
   "execution_count": 19,
   "id": "5ccb0877-60d2-4e33-a01a-56a93f2f7b0c",
   "metadata": {},
   "outputs": [
    {
     "name": "stdout",
     "output_type": "stream",
     "text": [
      "[10, 15, 20, 30, 40, 50, 60, 70]\n"
     ]
    }
   ],
   "source": [
    "# Question 4, Extend my_list with another list: [50, 60, 70].\n",
    "my_list=[10,15,20,30,40]\n",
    "my_list.extend([50,60,70])\n",
    "print(my_list)"
   ]
  },
  {
   "cell_type": "code",
   "execution_count": 14,
   "id": "e5168700-a8b0-415d-a35b-e16f144dd4eb",
   "metadata": {},
   "outputs": [
    {
     "name": "stdout",
     "output_type": "stream",
     "text": [
      "[10, 15, 20, 30, 40, 50, 60]\n",
      "[10, 15, 20, 30, 40, 50, 60]\n"
     ]
    }
   ],
   "source": [
    "# Question 5,Remove the last element from my_list.\n",
    "my_list=[10,15,20,30,40,50,60,70]\n",
    "my_list.remove(70)\n",
    "print(my_list)\n",
    "# OR\n",
    "my_list=[10,15,20,30,40,50,60,70]\n",
    "del my_list[-1]\n",
    "print(my_list)"
   ]
  },
  {
   "cell_type": "code",
   "execution_count": 15,
   "id": "edcb5181-afb4-42b6-8dfd-c898cd899bc7",
   "metadata": {},
   "outputs": [
    {
     "name": "stdout",
     "output_type": "stream",
     "text": [
      "[10, 15, 20, 30, 40, 50, 60, 70]\n"
     ]
    }
   ],
   "source": [
    "# Question 6, Sort my_list in ascending order.\n",
    "my_list=[10,15,20,30,40,50,60,70]\n",
    "my_list.sort()\n",
    "print(my_list)"
   ]
  },
  {
   "cell_type": "code",
   "execution_count": 18,
   "id": "2d7dd746-641a-414b-8fc7-7a2112318773",
   "metadata": {},
   "outputs": [
    {
     "name": "stdout",
     "output_type": "stream",
     "text": [
      "3\n"
     ]
    }
   ],
   "source": [
    "# Question 7,Find and print the index of the value 30 in my_list.\n",
    "my_list=[10,15,20,30,40,50,60,70]\n",
    "print(my_list.index(30))\n"
   ]
  }
 ],
 "metadata": {
  "kernelspec": {
   "display_name": "Python 3 (ipykernel)",
   "language": "python",
   "name": "python3"
  },
  "language_info": {
   "codemirror_mode": {
    "name": "ipython",
    "version": 3
   },
   "file_extension": ".py",
   "mimetype": "text/x-python",
   "name": "python",
   "nbconvert_exporter": "python",
   "pygments_lexer": "ipython3",
   "version": "3.13.5"
  }
 },
 "nbformat": 4,
 "nbformat_minor": 5
}
