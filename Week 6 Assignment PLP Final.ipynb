{
 "cells": [
  {
   "cell_type": "code",
   "execution_count": null,
   "id": "aa15f81a-dc68-4b44-b98c-1a8c342a7e9f",
   "metadata": {},
   "outputs": [],
   "source": [
    "# 1. Prompts the user for a URL containing an image\n",
    "\n",
    "url = input(\"Enter image URL:\")"
   ]
  },
  {
   "cell_type": "code",
   "execution_count": null,
   "id": "75d1120e-8e36-4a03-a3d8-4803e9d3ead5",
   "metadata": {},
   "outputs": [],
   "source": [
    "#  2. Creates a directory called \"Fetched_Images\" if it doesn't exist\n",
    "      \n",
    "import os\n",
    "os.mekderis(Fetched_images\",exist_ok=True\n"
   ]
  },
  {
   "cell_type": "code",
   "execution_count": null,
   "id": "b8bc698f-a395-4036-86f7-e81a37a5837c",
   "metadata": {},
   "outputs": [],
   "source": [
    "#  3. Downloads the image from the provided URL\n",
    "\n",
    "import requests\n",
    "r= requests.get(url)\n",
    "with open (\"Fetched_images/image.jpg\", \"web\") as f:\n",
    "    f.write(r.content)"
   ]
  },
  {
   "cell_type": "code",
   "execution_count": null,
   "id": "f88fc316-7371-4b2f-9627-61592c4df2a5",
   "metadata": {},
   "outputs": [],
   "source": [
    "# 4. Saves it to the Fetched_Images directory with an appropriate filename\n",
    "\n",
    "import os\n",
    "import requests\n",
    "\n",
    "filename = os.path.join(\"Fetched_images\", url.split(\"/\")\n",
    "[-1])\n",
    "with open(filename, \"wb\") as f:\n",
    "    f.write(requests.get(url).content)"
   ]
  },
  {
   "cell_type": "code",
   "execution_count": null,
   "id": "5f4f2700-1d6d-410d-a27d-044a7d8007ae",
   "metadata": {},
   "outputs": [],
   "source": [
    "# 5. Handles errors gracefully, respecting that not all connections succeed\n",
    "\n",
    "import os\n",
    "import requests\n",
    "\n",
    "os.mekedirs(\"Fetched_images\", exist_ok=True)\n",
    "filename = os.path.join(\"Fetched_images\", url.split(\"/\")\n",
    "[-1])\n",
    "\n",
    "try:\n",
    "    r= requests.get(url,timeout= 10)\n",
    "    r.raise_for_status()\n",
    "    with open(filename,\"wb\") as f:\n",
    "        f.write(r.content)\n",
    "    print(\"Downloaded successful!\")\n",
    "except requests. exceptions. RequestException as e:\n",
    "    print(f\"Error: {e}\")"
   ]
  }
 ],
 "metadata": {
  "kernelspec": {
   "display_name": "Python 3 (ipykernel)",
   "language": "python",
   "name": "python3"
  },
  "language_info": {
   "codemirror_mode": {
    "name": "ipython",
    "version": 3
   },
   "file_extension": ".py",
   "mimetype": "text/x-python",
   "name": "python",
   "nbconvert_exporter": "python",
   "pygments_lexer": "ipython3",
   "version": "3.13.5"
  }
 },
 "nbformat": 4,
 "nbformat_minor": 5
}
