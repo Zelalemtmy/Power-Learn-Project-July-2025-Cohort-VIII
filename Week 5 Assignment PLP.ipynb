{
 "cells": [
  {
   "cell_type": "code",
   "execution_count": null,
   "id": "da38c227-a008-46e0-859d-38e76135ba6d",
   "metadata": {},
   "outputs": [],
   "source": [
    "# Assignment 1: Design Your Own Class!, "
   ]
  },
  {
   "cell_type": "code",
   "execution_count": null,
   "id": "3b299931-33ce-4ec1-9023-3465dbac30a6",
   "metadata": {},
   "outputs": [],
   "source": [
    "# 1. Creating a class\n",
    "class smartphone:"
   ]
  },
  {
   "cell_type": "code",
   "execution_count": null,
   "id": "f780d2df-359f-4bd4-a8c1-1033500c0784",
   "metadata": {},
   "outputs": [],
   "source": [
    "# 2. Adding attributes\n",
    "color=\"black\"\n",
    "brand=\"samsung\"\n",
    "ram=\"4GB\"\n",
    "battery capacity=\"6000MA\""
   ]
  },
  {
   "cell_type": "code",
   "execution_count": null,
   "id": "808093e1-cadd-412d-8961-58f75b746936",
   "metadata": {},
   "outputs": [],
   "source": [
    "# 3. Method\n",
    "def ring(self):\n",
    "    print(\"the smartphone is ringing\")"
   ]
  },
  {
   "cell_type": "code",
   "execution_count": null,
   "id": "7f6ef6d9-bd9f-4ffc-bf2f-f9bfb175683a",
   "metadata": {},
   "outputs": [],
   "source": [
    "# 4. Setting up the constructors\n",
    "class smartphone:\n",
    "    def_init_(self.color,brand,ram,battery capacity):\n",
    "        self.color=color\n",
    "        self.brand=brand\n",
    "        self.ram=ram\n",
    "        self.battery capacity= battery capacity"
   ]
  },
  {
   "cell_type": "code",
   "execution_count": null,
   "id": "f18782ac-b3f2-412b-81f3-d7db6c26b44b",
   "metadata": {},
   "outputs": [],
   "source": [
    "# 5. Adding an inheritance layer to explore polymorphism\n",
    "phones= [Smartphone(\"Samsung\", \"Galaxy S8\"), iphone(\"Apple\", \"iphone 11\")]\n",
    "# Polymorphism\n",
    "     for phone in phones:\n",
    "         print(phone.get_info(), phone.)"
   ]
  },
  {
   "cell_type": "code",
   "execution_count": null,
   "id": "e5371809-0251-4827-bbc5-e08f33e0baca",
   "metadata": {},
   "outputs": [],
   "source": [
    "# Activity 2:, Polymorphism Challenge!"
   ]
  },
  {
   "cell_type": "code",
   "execution_count": null,
   "id": "df018373-b8e7-4270-95e3-301a0e1e326e",
   "metadata": {},
   "outputs": [],
   "source": [
    "class car:\n",
    "    def move(self):\n",
    "        return\"driving\"\n",
    "class plane:\n",
    "    def move(self):\n",
    "        return\"flying\"\n",
    "class fish:\n",
    "    def move(self):\n",
    "        return\"swimming\"\n",
    "class snake:\n",
    "    def move(self):\n",
    "        return\"slithering\"\n",
    "class tortoise:\n",
    "    def move(self):\n",
    "        return\"crawling slowly\"\n",
    "        "
   ]
  }
 ],
 "metadata": {
  "kernelspec": {
   "display_name": "Python 3 (ipykernel)",
   "language": "python",
   "name": "python3"
  },
  "language_info": {
   "codemirror_mode": {
    "name": "ipython",
    "version": 3
   },
   "file_extension": ".py",
   "mimetype": "text/x-python",
   "name": "python",
   "nbconvert_exporter": "python",
   "pygments_lexer": "ipython3",
   "version": "3.13.5"
  }
 },
 "nbformat": 4,
 "nbformat_minor": 5
}
