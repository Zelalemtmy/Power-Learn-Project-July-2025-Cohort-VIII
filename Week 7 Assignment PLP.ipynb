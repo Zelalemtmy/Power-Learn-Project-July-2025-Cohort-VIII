{
 "cells": [
  {
   "cell_type": "code",
   "execution_count": null,
   "id": "7db8ebe9-5ea2-4d8c-87c4-369330f8c41f",
   "metadata": {},
   "outputs": [],
   "source": []
  }
 ],
 "metadata": {
  "kernelspec": {
   "display_name": "",
   "name": ""
  },
  "language_info": {
   "name": ""
  }
 },
 "nbformat": 4,
 "nbformat_minor": 5
}
