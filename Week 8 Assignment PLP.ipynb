{
 "cells": [
  {
   "cell_type": "code",
   "execution_count": 8,
   "id": "88b207f1-b677-45e0-ad50-68fc848dbc3d",
   "metadata": {},
   "outputs": [
    {
     "name": "stdout",
     "output_type": "stream",
     "text": [
      "metadadata.csv downloaded sucessfully from Semantic Scholar.\n"
     ]
    }
   ],
   "source": [
    "# STEP BY STEP TASKS\n",
    "\n",
    "# Part 1\n",
    "# 1. Download and load the Data\n",
    "\n",
    "# Downloading  the metadata.csv file from the CORD-19 dataset\n",
    "\n",
    "print(\"metadadata.csv downloaded sucessfully from Semantic Scholar.\")"
   ]
  },
  {
   "cell_type": "code",
   "execution_count": null,
   "id": "b9f538e9-c360-41f9-b577-a19ec5f42a72",
   "metadata": {},
   "outputs": [],
   "source": [
    "# Lading in to pandas dataframe\n",
    "\n",
    "import pandas as pd\n",
    "\n",
    "df=pd.read_csv(r\"C:\\Users\\user\\Desktop\\my project\")"
   ]
  },
  {
   "cell_type": "code",
   "execution_count": null,
   "id": "f19edc6e-161e-4ed5-ab3f-8bed6c174f8c",
   "metadata": {},
   "outputs": [],
   "source": [
    "# Examining the first few rows and data structure\n",
    "\n",
    "# shows first few rows\n",
    "print(df.head())\n",
    "\n",
    "# show the data structure\n",
    "print(df.info())"
   ]
  },
  {
   "cell_type": "code",
   "execution_count": null,
   "id": "84bd0f26-6d3a-4674-ac3a-12d9d5a5b83f",
   "metadata": {},
   "outputs": [],
   "source": [
    "# 2. Basic data exploration\n",
    "\n",
    "# Check the DataFrame dimensions (rows, columns)\n",
    "\n",
    "print(df.shape)"
   ]
  },
  {
   "cell_type": "code",
   "execution_count": 21,
   "id": "d6cfb960-a71a-46fd-bae1-0af701944dba",
   "metadata": {},
   "outputs": [
    {
     "name": "stdout",
     "output_type": "stream",
     "text": [
      "<?xml version=\"1.0\" encoding=\"UTF-8\"?>    object\n",
      "dtype: object\n"
     ]
    }
   ],
   "source": [
    "# Identify data types of each column\n",
    "\n",
    "print(df.dtypes)"
   ]
  },
  {
   "cell_type": "code",
   "execution_count": null,
   "id": "1c0f55ac-d6e9-4d1e-af85-3579df2d8f16",
   "metadata": {},
   "outputs": [],
   "source": [
    "# Check for missing values in important columns\n",
    "print(df[['title', 'abstract',\n",
    "          'publish_time']].isnull().sum())\n",
    "\n"
   ]
  },
  {
   "cell_type": "code",
   "execution_count": null,
   "id": "c37a2356-adc4-4c24-8fc0-333c280cfb85",
   "metadata": {},
   "outputs": [],
   "source": [
    "# Generate basic statistics for numerical columns\n",
    "\n",
    "print(df.describe())"
   ]
  },
  {
   "cell_type": "code",
   "execution_count": null,
   "id": "22c83ae9-10af-4748-9b32-aafa19079576",
   "metadata": {},
   "outputs": [],
   "source": [
    "# Part 2: \n",
    "# 3.  Handle missing data\n",
    "\n",
    "# Identify columns with many missing values\n",
    "\n",
    "print(df.isnull().sum().sort_values(ascending= False))"
   ]
  },
  {
   "cell_type": "code",
   "execution_count": null,
   "id": "dca05fe3-289f-4322-9dfe-39fdac3856fa",
   "metadata": {},
   "outputs": [],
   "source": [
    "# Decide how to handle missing values (removal or filling)\n",
    "\n",
    "df = df.dropna()\n",
    "df = df.fillna('Unknown')\n",
    "df['year'] = df'year'].fillna(df['year'].mean())"
   ]
  },
  {
   "cell_type": "code",
   "execution_count": null,
   "id": "3cc4ecde-86a0-499c-af3c-224b176d1001",
   "metadata": {},
   "outputs": [],
   "source": [
    "#  Create a cleaned version of the dataset\n",
    "\n",
    "df_clean = df.dropna().copy()\n",
    "print(df_clean.info())"
   ]
  },
  {
   "cell_type": "code",
   "execution_count": null,
   "id": "3a95ef87-0099-4771-af97-55f5649dcd5f",
   "metadata": {},
   "outputs": [],
   "source": [
    "#  4. Prepare data for analysis\n",
    "\n",
    "#  Convert date columns to datetime format\n",
    "\n",
    "\n",
    "df_clean['publish_time'] = pd.to_datetime(df_clean['publish_time'], errors='coerce')"
   ]
  },
  {
   "cell_type": "code",
   "execution_count": null,
   "id": "c86a1a83-7df0-40d4-8f74-aa0ebb35fe56",
   "metadata": {},
   "outputs": [],
   "source": [
    "#  Extract year from publication date for time-based analysis\n",
    "\n",
    "df_clean['year'] = df_clean['publish_time'].dt.year"
   ]
  },
  {
   "cell_type": "code",
   "execution_count": null,
   "id": "dc75303f-aec7-490d-ab6d-073b2d3ec481",
   "metadata": {},
   "outputs": [],
   "source": [
    "#  Create new columns if needed (e.g., abstract word count)\n",
    "\n",
    "df_clean['abstract_word_count'] = \n",
    "df_clean['abstract'].astype(str).apply(lambda x: len(x.split()))"
   ]
  },
  {
   "cell_type": "code",
   "execution_count": null,
   "id": "b56b4ea2-243c-45b3-a5a1-26a19f27bf48",
   "metadata": {},
   "outputs": [],
   "source": [
    "#  Part 3\n",
    "\n",
    "# 5. Perform basic analysis\n",
    "\n",
    "#  Count papers by publication year\n",
    "\n",
    "print(df_clean['year'].value_counts().sort_index())"
   ]
  },
  {
   "cell_type": "code",
   "execution_count": null,
   "id": "758474d2-3ab0-425c-8728-3640e6f63cff",
   "metadata": {},
   "outputs": [],
   "source": [
    "#  Identify top journals publishing COVID-19 research\n",
    "\n",
    "print(df['journal'].value_counts().head(10))"
   ]
  },
  {
   "cell_type": "code",
   "execution_count": null,
   "id": "2efa4653-f489-4466-9177-c9d99136387c",
   "metadata": {},
   "outputs": [],
   "source": [
    "#  Find most frequent words in titles (using simple word frequency)\n",
    "\n",
    "from collections import Counter\n",
    "words = ' '.joint(df_clean['title'].dropna()).lower().split()\n",
    "print(Counter(words).most_common(10))\n"
   ]
  },
  {
   "cell_type": "code",
   "execution_count": null,
   "id": "23d8e795-cc28-46ff-8c25-bc2086911485",
   "metadata": {},
   "outputs": [],
   "source": [
    "# 6. Create visualizations\n",
    "\n",
    "# Create visualizations\n",
    "\n",
    "import matplotlib.pyplot as plt\n",
    "\n",
    "df_clean['year'].value_counts().sort_index().plot(kind='bar')\n",
    "plt.title(Number of Papers by Year')\n",
    "plt.xlabel('Year')\n",
    "plt.ylabel('Count')\n",
    "plt.show()"
   ]
  },
  {
   "cell_type": "code",
   "execution_count": null,
   "id": "3a35168d-e1ce-43d0-a1fe-15d7e839b91b",
   "metadata": {},
   "outputs": [],
   "source": [
    "#  Create a bar chart of top publishing journals\n",
    "\n",
    "top_journals =\n",
    "df_clean['journals'].value_counts().head(10)\n",
    "top_journals.plot(kind='bar')\n",
    "plt.title('Top 10 Journals Publishing COVID -19 Research')\n",
    "plt.xlabel('Journal')\n",
    "plt.ylabel('Number of Papers')\n",
    "plt.xticks(rotation=45, ha='right')\n",
    "plt.show()"
   ]
  },
  {
   "cell_type": "code",
   "execution_count": null,
   "id": "9d83aa76-d1f5-4117-ae18-5406f215d443",
   "metadata": {},
   "outputs": [],
   "source": [
    "#  Generate a word cloud of paper titles\n",
    "\n",
    "from wordcloud import WordCloud\n",
    "\n",
    "text=''.joint(df_clean['title'].dropna())\n",
    "\n",
    "wordcloud = WordCloud(width=800, height=400, background_color='white').generate(text)\n",
    "plt.imshow(wordcloud, interpolation='bilinear')\n",
    "plt.axis('off')\n",
    "plt.title('Word Cloud of Paper Titles')\n",
    "plt.show()"
   ]
  },
  {
   "cell_type": "code",
   "execution_count": null,
   "id": "a449dd76-fb5b-426f-ae48-7ed4c4c1a030",
   "metadata": {},
   "outputs": [],
   "source": [
    "#  Plot distribution of paper counts by source\n",
    "\n",
    "\n",
    "df_clean'source_x'].value_counts().plot(kind='bar')\n",
    "plt.title('Distribution of Paper Counts by Source')\n",
    "plt.xlabel('Source')\n",
    "plt.ylabel('Number of Papers')\n",
    "plt.xticks(rotation=45, ha='right')\n",
    "plt.show()"
   ]
  },
  {
   "cell_type": "code",
   "execution_count": null,
   "id": "85a4c528-3bb3-4445-8e89-ab2abc085e0c",
   "metadata": {},
   "outputs": [],
   "source": [
    "# Part 4\n",
    "\n",
    "#  7. Build a simple Streamlit app\n",
    "\n",
    "#  Create a basic layout with title and description\n",
    "\n",
    "import streamlit as st\n",
    "\n",
    "st.title(\"CORD-19 Research Data Analysis\")\n",
    "st.write(\"This app explores the COVID -19 Open Research Dataset (CORD-19), analyzing publication trends, top journals, and common research topics.\")"
   ]
  },
  {
   "cell_type": "code",
   "execution_count": null,
   "id": "333005a4-3c1d-468e-8100-6e234546aa4d",
   "metadata": {},
   "outputs": [],
   "source": [
    "#  Add interactive widgets (sliders, dropdowns)\n",
    "\n",
    "st.title(\"CORD-19 Research Data Analysis\")\n",
    "st.write(\"Explore COVID-19 research trends by year, journal, and keywords.\")\n",
    "\n",
    "# Slider for selecting year range\n",
    "year_range = st.slider(\"Select Year Range\", int(df_clean['year'].min()), int(df_clean['year'].max()),(2020,2021))\n",
    "\n",
    "# Dropdown for selecting journal\n",
    "journal = st.selectbox(\"Selected Journal\",df_clean['journal']dropna().unique())\n",
    "\n",
    "st.write(f\"Showing papers from\n",
    "**{year_range[0]}-{year_range[1]}**in **{journal}**.\")\n"
   ]
  },
  {
   "cell_type": "code",
   "execution_count": null,
   "id": "3c508ac0-c99a-438f-851e-e316ce227336",
   "metadata": {},
   "outputs": [],
   "source": [
    "#  Display your visualizations in the app\n",
    "\n",
    "fig, ax = plt.subplots()\n",
    "filtered_df['year'].value_counts().sort_index().plot(kind='bar', ax=ax)\n",
    "ax.set_title(f\"Papers Published per Year in {journal}\")\n",
    "ax.set_xlabel(\"Year\")\n",
    "ax.set_ylabel(\"Year\")\n",
    "ax.set_ylabel(\"Count\")\n",
    "\n",
    "st.pyplot(fig)"
   ]
  },
  {
   "cell_type": "code",
   "execution_count": null,
   "id": "946073dd-a5d7-41ef-8adb-d59679e50529",
   "metadata": {},
   "outputs": [],
   "source": [
    "#  Show a sample of the data\n",
    "\n",
    "st.subheader(\"Sample of the Dataset\")\n",
    "st.write(df_clean.head())"
   ]
  }
 ],
 "metadata": {
  "kernelspec": {
   "display_name": "Python 3 (ipykernel)",
   "language": "python",
   "name": "python3"
  },
  "language_info": {
   "codemirror_mode": {
    "name": "ipython",
    "version": 3
   },
   "file_extension": ".py",
   "mimetype": "text/x-python",
   "name": "python",
   "nbconvert_exporter": "python",
   "pygments_lexer": "ipython3",
   "version": "3.13.5"
  }
 },
 "nbformat": 4,
 "nbformat_minor": 5
}
