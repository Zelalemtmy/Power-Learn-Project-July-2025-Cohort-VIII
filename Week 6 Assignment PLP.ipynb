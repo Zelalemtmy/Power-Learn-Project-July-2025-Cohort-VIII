{
 "cells": [
  {
   "cell_type": "code",
   "execution_count": null,
   "id": "8e91e3b6-b5f1-4012-9bfb-8c6568659567",
   "metadata": {},
   "outputs": [],
   "source": []
  }
 ],
 "metadata": {
  "kernelspec": {
   "display_name": "",
   "name": ""
  },
  "language_info": {
   "name": ""
  }
 },
 "nbformat": 4,
 "nbformat_minor": 5
}
